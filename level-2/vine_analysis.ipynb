{
  "nbformat": 4,
  "nbformat_minor": 0,
  "metadata": {
    "colab": {
      "provenance": [],
      "collapsed_sections": [
        "Qo16b_qvPaMa",
        "jAeV7SF1PiWO"
      ]
    },
    "kernelspec": {
      "name": "python3",
      "display_name": "Python 3"
    },
    "language_info": {
      "name": "python"
    }
  },
  "cells": [
    {
      "cell_type": "code",
      "execution_count": 1,
      "metadata": {
        "colab": {
          "base_uri": "https://localhost:8080/"
        },
        "id": "aBZ1el995brg",
        "outputId": "b5eb47f8-ad96-4cb3-e572-82433b96cd7d"
      },
      "outputs": [
        {
          "output_type": "stream",
          "name": "stdout",
          "text": [
            "Looking in indexes: https://pypi.org/simple, https://us-python.pkg.dev/colab-wheels/public/simple/\n",
            "Collecting findspark\n",
            "  Downloading findspark-2.0.1-py2.py3-none-any.whl (4.4 kB)\n",
            "Installing collected packages: findspark\n",
            "Successfully installed findspark-2.0.1\n"
          ]
        }
      ],
      "source": [
        "import os\n",
        "\n",
        "# latest spark version: 3.3.1\n",
        "spark_version = 'spark-3.3.1'\n",
        "os.environ['SPARK_VERSION']=spark_version\n",
        "\n",
        "# Install Java, Spark, and Findspark\n",
        "!apt-get install openjdk-8-jdk-headless -qq > /dev/null\n",
        "!wget -q https://downloads.apache.org/spark/$SPARK_VERSION/$SPARK_VERSION-bin-hadoop3.tgz\n",
        "!tar xf $SPARK_VERSION-bin-hadoop3.tgz\n",
        "!pip install findspark\n",
        "\n",
        "# Set Environment Variables\n",
        "os.environ[\"JAVA_HOME\"] = \"/usr/lib/jvm/java-8-openjdk-amd64\"\n",
        "os.environ[\"SPARK_HOME\"] = f\"/content/{spark_version}-bin-hadoop3\"\n",
        "\n",
        "# Start a SparkSession\n",
        "import findspark\n",
        "findspark.init()"
      ]
    },
    {
      "cell_type": "code",
      "source": [
        "!wget https://jdbc.postgresql.org/download/postgresql-42.2.9.jar"
      ],
      "metadata": {
        "colab": {
          "base_uri": "https://localhost:8080/"
        },
        "id": "6pWBxePeWV5V",
        "outputId": "0c1e86de-8d14-417b-e41d-af2513a75057"
      },
      "execution_count": 2,
      "outputs": [
        {
          "output_type": "stream",
          "name": "stdout",
          "text": [
            "--2022-11-16 20:45:32--  https://jdbc.postgresql.org/download/postgresql-42.2.9.jar\n",
            "Resolving jdbc.postgresql.org (jdbc.postgresql.org)... 72.32.157.228, 2001:4800:3e1:1::228\n",
            "Connecting to jdbc.postgresql.org (jdbc.postgresql.org)|72.32.157.228|:443... connected.\n",
            "HTTP request sent, awaiting response... 200 OK\n",
            "Length: 914037 (893K) [application/java-archive]\n",
            "Saving to: ‘postgresql-42.2.9.jar’\n",
            "\n",
            "postgresql-42.2.9.j 100%[===================>] 892.61K  --.-KB/s    in 0.08s   \n",
            "\n",
            "2022-11-16 20:45:32 (10.5 MB/s) - ‘postgresql-42.2.9.jar’ saved [914037/914037]\n",
            "\n"
          ]
        }
      ]
    },
    {
      "cell_type": "code",
      "source": [
        "from pyspark.sql import SparkSession\n",
        "spark = SparkSession.builder.appName(\"CloudETL\").config(\"spark.driver.extraClassPath\",\"/content/postgresql-42.2.9.jar\").getOrCreate()"
      ],
      "metadata": {
        "id": "TicfHUVxWq9U"
      },
      "execution_count": 3,
      "outputs": []
    },
    {
      "cell_type": "code",
      "source": [
        "from pyspark import SparkFiles\n",
        "\n",
        "# load in the file we wanna read\n",
        "url = \"https://s3.amazonaws.com/amazon-reviews-pds/tsv/amazon_reviews_us_Video_Games_v1_00.tsv.gz\"\n",
        "spark.sparkContext.addFile(url)\n",
        "\n",
        "# create the DataFrame\n",
        "data_DF = spark.read.option('header','true').csv(SparkFiles.get(\"amazon_reviews_us_Video_Games_v1_00.tsv.gz\"), inferSchema=True, sep='\\t', timestampFormat=\"yyyy/mm/dd\")\n",
        "data_DF.show(10)"
      ],
      "metadata": {
        "colab": {
          "base_uri": "https://localhost:8080/"
        },
        "id": "9SrRafrVXIWj",
        "outputId": "97223e08-64c0-43f4-8d0e-e4f8b86f2766"
      },
      "execution_count": 4,
      "outputs": [
        {
          "output_type": "stream",
          "name": "stdout",
          "text": [
            "+-----------+-----------+--------------+----------+--------------+--------------------+----------------+-----------+-------------+-----------+----+-----------------+--------------------+--------------------+-----------+\n",
            "|marketplace|customer_id|     review_id|product_id|product_parent|       product_title|product_category|star_rating|helpful_votes|total_votes|vine|verified_purchase|     review_headline|         review_body|review_date|\n",
            "+-----------+-----------+--------------+----------+--------------+--------------------+----------------+-----------+-------------+-----------+----+-----------------+--------------------+--------------------+-----------+\n",
            "|         US|   12039526| RTIS3L2M1F5SM|B001CXYMFS|     737716809|Thrustmaster T-Fl...|     Video Games|          5|            0|          0|   N|                Y|an amazing joysti...|Used this for Eli...| 2015-08-31|\n",
            "|         US|    9636577| R1ZV7R40OLHKD|B00M920ND6|     569686175|Tonsee 6 buttons ...|     Video Games|          5|            0|          0|   N|                Y|Definitely a sile...|Loved it,  I didn...| 2015-08-31|\n",
            "|         US|    2331478|R3BH071QLH8QMC|B0029CSOD2|      98937668|Hidden Mysteries:...|     Video Games|          1|            0|          1|   N|                Y|            One Star|poor quality work...| 2015-08-31|\n",
            "|         US|   52495923|R127K9NTSXA2YH|B00GOOSV98|      23143350|GelTabz Performan...|     Video Games|          3|            0|          0|   N|                Y|good, but could b...|nice, but tend to...| 2015-08-31|\n",
            "|         US|   14533949|R32ZWUXDJPW27Q|B00Y074JOM|     821342511|Zero Suit Samus a...|     Video Games|          4|            0|          0|   N|                Y|   Great but flawed.|Great amiibo, gre...| 2015-08-31|\n",
            "|         US|    2377552|R3AQQ4YUKJWBA6|B002UBI6W6|     328764615|Psyclone Recharge...|     Video Games|          1|            0|          0|   N|                Y|            One Star|The remote consta...| 2015-08-31|\n",
            "|         US|   17521011|R2F0POU5K6F73F|B008XHCLFO|      24234603|Protection for yo...|     Video Games|          5|            0|          0|   N|                Y|              A Must|I have a 2012-201...| 2015-08-31|\n",
            "|         US|   19676307|R3VNR804HYSMR6|B00BRA9R6A|     682267517|   Nerf 3DS XL Armor|     Video Games|          5|            0|          0|   N|                Y|          Five Stars|Perfect, kids lov...| 2015-08-31|\n",
            "|         US|     224068| R3GZTM72WA2QH|B009EPWJLA|     435241890|One Piece: Pirate...|     Video Games|          5|            0|          0|   N|                Y|          Five Stars|            Excelent| 2015-08-31|\n",
            "|         US|   48467989| RNQOY62705W1K|B0000AV7GB|     256572651|Playstation 2 Dan...|     Video Games|          4|            0|          0|   N|                Y|          Four Stars|Slippery but expe...| 2015-08-31|\n",
            "+-----------+-----------+--------------+----------+--------------+--------------------+----------------+-----------+-------------+-----------+----+-----------------+--------------------+--------------------+-----------+\n",
            "only showing top 10 rows\n",
            "\n"
          ]
        }
      ]
    },
    {
      "cell_type": "markdown",
      "source": [
        "are Vine reviews truly trustworthy? Your task is to investigate whether Vine reviews are free of bias. Use either PySpark or, for an extra challenge, SQL to analyze the data.\n",
        "\n",
        "* If you choose SQL, first use Spark on Colab to extract and transform the data and then load it into a SQL table on your RDS account. Perform your analysis with SQL queries on RDS.\n",
        "\n",
        "* While there are no strict requirements for the analysis, consider steps you can take to reduce noisy data, such as filtering for reviews that meet a certain number of helpful votes, total votes, or both.\n",
        "\n",
        "* Submit a summary of your findings and analysis."
      ],
      "metadata": {
        "id": "ij9AfIQubtvu"
      }
    },
    {
      "cell_type": "code",
      "source": [
        "# select the columns we want to compare: star rating, helpful votes, total votes, vine and verified purchase\n",
        "df_select = data_DF.select([\"star_rating\", \"helpful_votes\", \"total_votes\", \"vine\", \"verified_purchase\"])\n",
        "df_select.show()"
      ],
      "metadata": {
        "colab": {
          "base_uri": "https://localhost:8080/"
        },
        "id": "ITsb5rG7MvZD",
        "outputId": "e4d84e46-6f86-4b06-a09a-4aec77ad3aec"
      },
      "execution_count": 6,
      "outputs": [
        {
          "output_type": "stream",
          "name": "stdout",
          "text": [
            "+-----------+-------------+-----------+----+-----------------+\n",
            "|star_rating|helpful_votes|total_votes|vine|verified_purchase|\n",
            "+-----------+-------------+-----------+----+-----------------+\n",
            "|          5|            0|          0|   N|                Y|\n",
            "|          5|            0|          0|   N|                Y|\n",
            "|          1|            0|          1|   N|                Y|\n",
            "|          3|            0|          0|   N|                Y|\n",
            "|          4|            0|          0|   N|                Y|\n",
            "|          1|            0|          0|   N|                Y|\n",
            "|          5|            0|          0|   N|                Y|\n",
            "|          5|            0|          0|   N|                Y|\n",
            "|          5|            0|          0|   N|                Y|\n",
            "|          4|            0|          0|   N|                Y|\n",
            "|          5|            0|          0|   N|                N|\n",
            "|          1|            0|          0|   N|                Y|\n",
            "|          2|            0|          0|   N|                Y|\n",
            "|          4|            0|          0|   N|                Y|\n",
            "|          1|            1|          1|   N|                Y|\n",
            "|          5|            0|          0|   N|                Y|\n",
            "|          5|            0|          0|   N|                Y|\n",
            "|          5|            0|          0|   N|                Y|\n",
            "|          5|            0|          0|   N|                Y|\n",
            "|          4|            0|          0|   N|                Y|\n",
            "+-----------+-------------+-----------+----+-----------------+\n",
            "only showing top 20 rows\n",
            "\n"
          ]
        }
      ]
    },
    {
      "cell_type": "code",
      "source": [
        "# drop N/A and Duplicates\n",
        "df_select = df_select.dropna(how='any')\n",
        "df_select.dropDuplicates()\n",
        "df_select.show()"
      ],
      "metadata": {
        "colab": {
          "base_uri": "https://localhost:8080/"
        },
        "id": "Snh4Et9nM99p",
        "outputId": "7f08c965-8f28-4aca-c700-3f2208cd9aeb"
      },
      "execution_count": 7,
      "outputs": [
        {
          "output_type": "stream",
          "name": "stdout",
          "text": [
            "+-----------+-------------+-----------+----+-----------------+\n",
            "|star_rating|helpful_votes|total_votes|vine|verified_purchase|\n",
            "+-----------+-------------+-----------+----+-----------------+\n",
            "|          5|            0|          0|   N|                Y|\n",
            "|          5|            0|          0|   N|                Y|\n",
            "|          1|            0|          1|   N|                Y|\n",
            "|          3|            0|          0|   N|                Y|\n",
            "|          4|            0|          0|   N|                Y|\n",
            "|          1|            0|          0|   N|                Y|\n",
            "|          5|            0|          0|   N|                Y|\n",
            "|          5|            0|          0|   N|                Y|\n",
            "|          5|            0|          0|   N|                Y|\n",
            "|          4|            0|          0|   N|                Y|\n",
            "|          5|            0|          0|   N|                N|\n",
            "|          1|            0|          0|   N|                Y|\n",
            "|          2|            0|          0|   N|                Y|\n",
            "|          4|            0|          0|   N|                Y|\n",
            "|          1|            1|          1|   N|                Y|\n",
            "|          5|            0|          0|   N|                Y|\n",
            "|          5|            0|          0|   N|                Y|\n",
            "|          5|            0|          0|   N|                Y|\n",
            "|          5|            0|          0|   N|                Y|\n",
            "|          4|            0|          0|   N|                Y|\n",
            "+-----------+-------------+-----------+----+-----------------+\n",
            "only showing top 20 rows\n",
            "\n"
          ]
        }
      ]
    },
    {
      "cell_type": "code",
      "source": [
        "# filter if there are over 10 total votes and if the average of helpful votes is over .5\n",
        "df_vine = df_select.filter(\"total_votes>=10\").filter(df_select[\"helpful_votes\"]/df_select[\"total_votes\"] >= 0.5)\n",
        "df_vine.show()"
      ],
      "metadata": {
        "colab": {
          "base_uri": "https://localhost:8080/"
        },
        "id": "hWmuziPSNJnG",
        "outputId": "848a11e2-4d8b-4dd9-d070-b2f9fdc31aba"
      },
      "execution_count": 8,
      "outputs": [
        {
          "output_type": "stream",
          "name": "stdout",
          "text": [
            "+-----------+-------------+-----------+----+-----------------+\n",
            "|star_rating|helpful_votes|total_votes|vine|verified_purchase|\n",
            "+-----------+-------------+-----------+----+-----------------+\n",
            "|          1|           21|         34|   N|                N|\n",
            "|          1|           21|         35|   N|                Y|\n",
            "|          5|           16|         17|   N|                Y|\n",
            "|          1|           13|         15|   N|                N|\n",
            "|          5|           14|         18|   N|                Y|\n",
            "|          1|          147|        175|   N|                Y|\n",
            "|          4|           13|         15|   N|                N|\n",
            "|          2|           55|         60|   N|                N|\n",
            "|          1|           51|         65|   N|                Y|\n",
            "|          1|           14|         16|   N|                Y|\n",
            "|          4|           31|         36|   N|                N|\n",
            "|          1|           10|         16|   N|                Y|\n",
            "|          5|           10|         12|   N|                N|\n",
            "|          1|            9|         12|   N|                Y|\n",
            "|          2|           19|         34|   N|                Y|\n",
            "|          1|            5|         10|   N|                Y|\n",
            "|          5|           28|         31|   N|                N|\n",
            "|          1|            9|         10|   N|                Y|\n",
            "|          2|          151|        198|   N|                N|\n",
            "|          4|           11|         13|   N|                N|\n",
            "+-----------+-------------+-----------+----+-----------------+\n",
            "only showing top 20 rows\n",
            "\n"
          ]
        }
      ]
    },
    {
      "cell_type": "markdown",
      "source": [
        "## Now we start the analysis"
      ],
      "metadata": {
        "id": "weXccYKPNhBW"
      }
    },
    {
      "cell_type": "code",
      "source": [
        "# setting viariables for if the customer is a vine reviewer or not\n",
        "from pyspark.sql.functions import col, avg\n",
        "df_paid = df_vine.filter(\"vine='Y'\")\n",
        "df_unpaid = df_vine.filter(\"vine='N'\")"
      ],
      "metadata": {
        "id": "Ek5sZi_YNlrW"
      },
      "execution_count": 9,
      "outputs": []
    },
    {
      "cell_type": "code",
      "source": [
        "# show statistics with .describe() for the paid vine reviewers\n",
        "df_paid.describe().show()"
      ],
      "metadata": {
        "colab": {
          "base_uri": "https://localhost:8080/"
        },
        "id": "Ms9vFBqWNyQB",
        "outputId": "d8d3f05b-979c-473a-e597-ec3038e646ef"
      },
      "execution_count": 10,
      "outputs": [
        {
          "output_type": "stream",
          "name": "stdout",
          "text": [
            "+-------+------------------+------------------+------------------+----+-----------------+\n",
            "|summary|       star_rating|     helpful_votes|       total_votes|vine|verified_purchase|\n",
            "+-------+------------------+------------------+------------------+----+-----------------+\n",
            "|  count|               209|               209|               209| 209|              209|\n",
            "|   mean| 4.100478468899522| 30.38755980861244|35.047846889952154|null|             null|\n",
            "| stddev|0.9876398444142312|48.892720457429824|  52.0989960745545|null|             null|\n",
            "|    min|                 1|                 5|                10|   Y|                N|\n",
            "|    max|                 5|               347|               362|   Y|                Y|\n",
            "+-------+------------------+------------------+------------------+----+-----------------+\n",
            "\n"
          ]
        }
      ]
    },
    {
      "cell_type": "code",
      "source": [
        "# show statistics with .describe() for the unpaid reviewers\n",
        "df_unpaid.describe().show()"
      ],
      "metadata": {
        "colab": {
          "base_uri": "https://localhost:8080/"
        },
        "id": "i3dUUVMEODoN",
        "outputId": "58f17080-249e-47fa-a558-4ece23c1a47c"
      },
      "execution_count": 11,
      "outputs": [
        {
          "output_type": "stream",
          "name": "stdout",
          "text": [
            "+-------+------------------+-----------------+------------------+-----+-----------------+\n",
            "|summary|       star_rating|    helpful_votes|       total_votes| vine|verified_purchase|\n",
            "+-------+------------------+-----------------+------------------+-----+-----------------+\n",
            "|  count|             97866|            97866|             97866|97866|            97866|\n",
            "|   mean|3.3428974311814112|25.77585678376556|30.945905626060124| null|             null|\n",
            "| stddev|1.6335240548991206|77.77514663937731| 84.59013094414958| null|             null|\n",
            "|    min|                 1|                5|                10|    N|                N|\n",
            "|    max|                 5|            10498|             10780|    N|                Y|\n",
            "+-------+------------------+-----------------+------------------+-----+-----------------+\n",
            "\n"
          ]
        }
      ]
    },
    {
      "cell_type": "markdown",
      "source": [
        "### 5 star Paid Reviews"
      ],
      "metadata": {
        "id": "Qo16b_qvPaMa"
      }
    },
    {
      "cell_type": "code",
      "source": [
        "# counting vine reviewers who gave 5 stars to products\n",
        "five_star = df_paid[df_paid['star_rating'] == 5].count()\n",
        "five_star"
      ],
      "metadata": {
        "colab": {
          "base_uri": "https://localhost:8080/"
        },
        "id": "B3frHxVdOSWD",
        "outputId": "89bcaf3d-782f-4f79-93e2-5032e098dada"
      },
      "execution_count": 12,
      "outputs": [
        {
          "output_type": "execute_result",
          "data": {
            "text/plain": [
              "93"
            ]
          },
          "metadata": {},
          "execution_count": 12
        }
      ]
    },
    {
      "cell_type": "code",
      "source": [
        "# counting all star levels given by vine reviewers\n",
        "all_paid = df_paid.count()\n",
        "all_paid"
      ],
      "metadata": {
        "colab": {
          "base_uri": "https://localhost:8080/"
        },
        "id": "Ns7ggzVfOkff",
        "outputId": "d2e02db6-7cd0-452b-9ed2-7cece73909ea"
      },
      "execution_count": 21,
      "outputs": [
        {
          "output_type": "execute_result",
          "data": {
            "text/plain": [
              "209"
            ]
          },
          "metadata": {},
          "execution_count": 21
        }
      ]
    },
    {
      "cell_type": "code",
      "source": [
        "# percent of 5 star reviewers in Vine\n",
        "pct_paid = (five_star/all_paid)*100\n",
        "print(f\"% of paid 5 star Vine reviewers: {pct_paid}\")"
      ],
      "metadata": {
        "colab": {
          "base_uri": "https://localhost:8080/"
        },
        "id": "Qo_L7MenOzwc",
        "outputId": "a85be224-1a8f-4bdc-eb80-22ce1a1fd623"
      },
      "execution_count": 16,
      "outputs": [
        {
          "output_type": "stream",
          "name": "stdout",
          "text": [
            "% of paid 5 star Vine reviewers: 44.49760765550239\n"
          ]
        }
      ]
    },
    {
      "cell_type": "markdown",
      "source": [
        "### 5 star Unpaid Reviews"
      ],
      "metadata": {
        "id": "jAeV7SF1PiWO"
      }
    },
    {
      "cell_type": "code",
      "source": [
        "# counting unpaid reviewers who gave 5 stars to products\n",
        "unpaid_five_star = df_unpaid[df_paid['star_rating'] == 5].count()\n",
        "unpaid_five_star"
      ],
      "metadata": {
        "colab": {
          "base_uri": "https://localhost:8080/"
        },
        "id": "UJ4N70COPkk8",
        "outputId": "aa29b076-62dd-4cc8-b6aa-35842c6e25fe"
      },
      "execution_count": 17,
      "outputs": [
        {
          "output_type": "execute_result",
          "data": {
            "text/plain": [
              "37451"
            ]
          },
          "metadata": {},
          "execution_count": 17
        }
      ]
    },
    {
      "cell_type": "code",
      "source": [
        "# counting all star levels given by unpaid reviewers\n",
        "all_unpaid = df_unpaid.count()\n",
        "all_unpaid"
      ],
      "metadata": {
        "colab": {
          "base_uri": "https://localhost:8080/"
        },
        "id": "A9xXRwKfPxAT",
        "outputId": "666f13fe-0a91-4e70-a0de-4486a1187cf3"
      },
      "execution_count": 18,
      "outputs": [
        {
          "output_type": "execute_result",
          "data": {
            "text/plain": [
              "97866"
            ]
          },
          "metadata": {},
          "execution_count": 18
        }
      ]
    },
    {
      "cell_type": "code",
      "source": [
        "# percent of 5 star reviewers who were not paid\n",
        "pct_unpaid = (unpaid_five_star/all_unpaid)*100\n",
        "print(f\"% of paid 5 star unpaid reviewers: {pct_unpaid}\")"
      ],
      "metadata": {
        "colab": {
          "base_uri": "https://localhost:8080/"
        },
        "id": "HkE0tPFoP8mJ",
        "outputId": "678a4bbf-5735-40bc-bc22-749906c68e7e"
      },
      "execution_count": 19,
      "outputs": [
        {
          "output_type": "stream",
          "name": "stdout",
          "text": [
            "% of paid 5 star unpaid reviewers: 38.26763125089408\n"
          ]
        }
      ]
    },
    {
      "cell_type": "markdown",
      "source": [
        "### Vine Analysis\n",
        "\n",
        "Are Vine reviews truly trustworthy when it comes to Video Games?\n",
        "\n",
        "* Percent of 5 Star Ratings:\n",
        "  * 45% of Vine Reviewers\n",
        "  * 38% of Unpaid Reviewers\n",
        "As almost half of Vine reviewers give 5 star reviews, I would be cautious to trust their opinions.\n",
        "\n",
        "* The Average Total Votes show as:\n",
        "  * 35 for Vine reviewers\n",
        "  * 30 for Unpaid reviewers\n",
        "The Average total votes are close in number which is great baseline for the rest of our comparison.\n",
        "\n",
        "* The Standard Deviation for Helpful Votes shows as:\n",
        "  *  30 for Paid Helpful Votes \n",
        "  *  77 for Unpaid Helpful Votes\n",
        "For this metric, the Unpaid reviews have a wider SD so a bit more unreliable than the Vine reviews.\n",
        "  \n",
        "* The Average Star Rating:\n",
        "  * 4.1 for Vine Reviewers\n",
        "  * 3.3 for Unpaid Reviewers\n",
        "While these numbers may look close together, we must remember this is a 5 star scale. Based on this alone, I'd be more likely to trust the Unpaid reviews.\n",
        "  \n",
        "With the information given below, I'd warn agains relying heavily on Vine reviews. \n"
      ],
      "metadata": {
        "id": "ZJxFBWmCQOi1"
      }
    },
    {
      "cell_type": "code",
      "source": [],
      "metadata": {
        "id": "bqfWF1d0Tpqx"
      },
      "execution_count": null,
      "outputs": []
    }
  ]
}