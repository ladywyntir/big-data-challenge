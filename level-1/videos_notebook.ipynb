{
  "cells": [
    {
      "cell_type": "code",
      "execution_count": null,
      "metadata": {
        "colab": {
          "base_uri": "https://localhost:8080/"
        },
        "id": "aBZ1el995brg",
        "outputId": "dc252730-4182-44c5-cbb6-1bc01cd1d026"
      },
      "outputs": [
        {
          "name": "stdout",
          "output_type": "stream",
          "text": [
            "Looking in indexes: https://pypi.org/simple, https://us-python.pkg.dev/colab-wheels/public/simple/\n",
            "Collecting findspark\n",
            "  Downloading findspark-2.0.1-py2.py3-none-any.whl (4.4 kB)\n",
            "Installing collected packages: findspark\n",
            "Successfully installed findspark-2.0.1\n"
          ]
        }
      ],
      "source": [
        "import os\n",
        "\n",
        "# latest spark version: 3.3.1\n",
        "spark_version = 'spark-3.3.1'\n",
        "os.environ['SPARK_VERSION']=spark_version\n",
        "\n",
        "# Install Java, Spark, and Findspark\n",
        "!apt-get install openjdk-8-jdk-headless -qq > /dev/null\n",
        "!wget -q https://downloads.apache.org/spark/$SPARK_VERSION/$SPARK_VERSION-bin-hadoop3.tgz\n",
        "!tar xf $SPARK_VERSION-bin-hadoop3.tgz\n",
        "!pip install findspark\n",
        "\n",
        "# Set Environment Variables\n",
        "os.environ[\"JAVA_HOME\"] = \"/usr/lib/jvm/java-8-openjdk-amd64\"\n",
        "os.environ[\"SPARK_HOME\"] = f\"/content/{spark_version}-bin-hadoop3\"\n",
        "\n",
        "# Start a SparkSession\n",
        "import findspark\n",
        "findspark.init()"
      ]
    },
    {
      "cell_type": "code",
      "execution_count": null,
      "metadata": {
        "colab": {
          "base_uri": "https://localhost:8080/"
        },
        "id": "OmEyKpuLVKiE",
        "outputId": "9dfc59c2-b000-4983-e94f-688875899684"
      },
      "outputs": [
        {
          "name": "stdout",
          "output_type": "stream",
          "text": [
            "--2022-11-16 16:49:20--  https://jdbc.postgresql.org/download/postgresql-42.2.9.jar\n",
            "Resolving jdbc.postgresql.org (jdbc.postgresql.org)... 72.32.157.228, 2001:4800:3e1:1::228\n",
            "Connecting to jdbc.postgresql.org (jdbc.postgresql.org)|72.32.157.228|:443... connected.\n",
            "HTTP request sent, awaiting response... 200 OK\n",
            "Length: 914037 (893K) [application/java-archive]\n",
            "Saving to: ‘postgresql-42.2.9.jar’\n",
            "\n",
            "postgresql-42.2.9.j 100%[===================>] 892.61K  5.44MB/s    in 0.2s    \n",
            "\n",
            "2022-11-16 16:49:20 (5.44 MB/s) - ‘postgresql-42.2.9.jar’ saved [914037/914037]\n",
            "\n"
          ]
        }
      ],
      "source": [
        "!wget https://jdbc.postgresql.org/download/postgresql-42.2.9.jar"
      ]
    },
    {
      "cell_type": "code",
      "execution_count": null,
      "metadata": {
        "id": "0pRwHeU_WIkU"
      },
      "outputs": [],
      "source": [
        "from pyspark.sql import SparkSession\n",
        "spark = SparkSession.builder.appName(\"CloudETL\").config(\"spark.driver.extraClassPath\",\"/content/postgresql-42.2.9.jar\").getOrCreate()"
      ]
    },
    {
      "cell_type": "code",
      "execution_count": null,
      "metadata": {
        "colab": {
          "base_uri": "https://localhost:8080/"
        },
        "id": "Bq2ZoFqGWMwN",
        "outputId": "8e95f8d0-53bf-4acc-d368-729a95617a75"
      },
      "outputs": [
        {
          "name": "stdout",
          "output_type": "stream",
          "text": [
            "+-----------+-----------+--------------+----------+--------------+--------------------+----------------+-----------+-------------+-----------+----+-----------------+--------------------+--------------------+-----------+\n",
            "|marketplace|customer_id|     review_id|product_id|product_parent|       product_title|product_category|star_rating|helpful_votes|total_votes|vine|verified_purchase|     review_headline|         review_body|review_date|\n",
            "+-----------+-----------+--------------+----------+--------------+--------------------+----------------+-----------+-------------+-----------+----+-----------------+--------------------+--------------------+-----------+\n",
            "|         US|   49033728|R1P1G5KZ05H6RD|6302503213|     748506413|The Night They Sa...|           Video|          5|            0|          0|   N|                Y|    Very satisfied!!|Fast shipping. Pl...| 2015-08-31|\n",
            "|         US|   17857748|R106N066IUN8ZV|B000059PET|     478710180|Hamlet / Kline, N...|           Video|          5|            0|          0|   N|                Y|The most talented...|Kevin Kline is th...| 2015-08-31|\n",
            "|         US|   25551507| R7WTAA1S5O7D9|0788812807|     981002815|Nascar Dual Power...|           Video|          4|            0|          0|   N|                Y|          Four Stars|         great movie| 2015-08-31|\n",
            "|         US|   21025041|R32HFMVWLYOYJK|6302509939|     333219811|The Man From U.N....|           Video|          5|            0|          0|   N|                Y|          Five Stars|i love the martin...| 2015-08-31|\n",
            "|         US|   40943563| RWT3H6HBVAL6G|B00JENS2BI|     538101194|Playboy Video Par...|           Video|          3|            0|          0|   N|                N|HOT women, dumb j...|Y'know what this ...| 2015-08-31|\n",
            "|         US|   17013969|R1S3T3GWUGQTW7|6305761302|     716303278|Cabaret Balkan - ...|           Video|          5|            0|          0|   N|                Y|          Five Stars|Wonderfully accur...| 2015-08-31|\n",
            "|         US|   47611685|R3R0QYHA800REE|6300157555|     134996462|Wrinkles:in Need ...|           Video|          4|            0|          0|   N|                Y|          Four Stars|In great shape fo...| 2015-08-31|\n",
            "|         US|   35680737|R1FR0EQPHPW5NM|6300189570|     498116870|Ladies Club,the [...|           Video|          4|            1|          2|   N|                N|          Four Stars|When are they goi...| 2015-08-31|\n",
            "|         US|   10747909| RGORN81H45NI7|B000SXQ5US|      77519275|The Campitelli Ad...|           Video|          5|            1|          1|   N|                Y|I was thrilled to...|This is the best ...| 2015-08-31|\n",
            "|         US|     126341|R1CNYN4ABNOJSU|B00008F22G|     917778300|Return of the Jed...|           Video|          5|            0|          0|   N|                Y|          Five Stars|I'm very pleased ...| 2015-08-31|\n",
            "+-----------+-----------+--------------+----------+--------------+--------------------+----------------+-----------+-------------+-----------+----+-----------------+--------------------+--------------------+-----------+\n",
            "only showing top 10 rows\n",
            "\n"
          ]
        }
      ],
      "source": [
        "from pyspark import SparkFiles\n",
        "\n",
        "# load in the file we wanna read\n",
        "url = \"https://s3.amazonaws.com/amazon-reviews-pds/tsv/amazon_reviews_us_Video_v1_00.tsv.gz\"\n",
        "spark.sparkContext.addFile(url)\n",
        "\n",
        "# create the DataFrame\n",
        "videos_DF = spark.read.option('header','true').csv(SparkFiles.get(\"amazon_reviews_us_Video_v1_00.tsv.gz\"), inferSchema=True, sep='\\t', timestampFormat=\"yyyy/mm/dd\")\n",
        "videos_DF.show(10)"
      ]
    },
    {
      "cell_type": "markdown",
      "metadata": {
        "id": "O_Pq3l6oXMvu"
      },
      "source": [
        "* Complete the following steps for each notebook (one dataset per notebook).\n",
        "\n",
        "  * Count the number of records (rows) in the dataset.\n",
        "\n",
        "  * Transform the dataset to fit the tables in the [schema file](../Resources/schema.sql). Be sure that the DataFrames match in data type and in column name.\n",
        "\n",
        "  * Load the DataFrames that correspond to tables into an RDS instance. **Note:** This process can take up to 10 minutes for each. Ensure that everything is correct before uploading.\n"
      ]
    },
    {
      "cell_type": "code",
      "execution_count": null,
      "metadata": {
        "colab": {
          "base_uri": "https://localhost:8080/"
        },
        "id": "au4mjUZ-XRV8",
        "outputId": "3b163a68-ad16-4d30-eb0d-9771920659ca"
      },
      "outputs": [
        {
          "name": "stdout",
          "output_type": "stream",
          "text": [
            "Number of records in this dataset: 380604\n"
          ]
        }
      ],
      "source": [
        "# number of records\n",
        "print(f\"Number of records in this dataset: {videos_DF.count()}\")"
      ]
    },
    {
      "cell_type": "code",
      "execution_count": null,
      "metadata": {
        "colab": {
          "base_uri": "https://localhost:8080/"
        },
        "id": "xEgvOh57XXvp",
        "outputId": "a958a758-a995-41f3-efda-85a72c86f766"
      },
      "outputs": [
        {
          "name": "stdout",
          "output_type": "stream",
          "text": [
            "root\n",
            " |-- marketplace: string (nullable = true)\n",
            " |-- customer_id: integer (nullable = true)\n",
            " |-- review_id: string (nullable = true)\n",
            " |-- product_id: string (nullable = true)\n",
            " |-- product_parent: integer (nullable = true)\n",
            " |-- product_title: string (nullable = true)\n",
            " |-- product_category: string (nullable = true)\n",
            " |-- star_rating: integer (nullable = true)\n",
            " |-- helpful_votes: integer (nullable = true)\n",
            " |-- total_votes: integer (nullable = true)\n",
            " |-- vine: string (nullable = true)\n",
            " |-- verified_purchase: string (nullable = true)\n",
            " |-- review_headline: string (nullable = true)\n",
            " |-- review_body: string (nullable = true)\n",
            " |-- review_date: string (nullable = true)\n",
            "\n"
          ]
        }
      ],
      "source": [
        "# transform dataset to fit the tables\n",
        "\n",
        "# print schema\n",
        "videos_DF.printSchema()"
      ]
    },
    {
      "cell_type": "code",
      "execution_count": null,
      "metadata": {
        "colab": {
          "base_uri": "https://localhost:8080/"
        },
        "id": "MjvF1LctXd3I",
        "outputId": "4a3c02bf-24a8-4b62-e64d-b6f5c0516ff7"
      },
      "outputs": [
        {
          "name": "stdout",
          "output_type": "stream",
          "text": [
            "Number of rows after null values were removed: 380575\n"
          ]
        }
      ],
      "source": [
        "# Drop null values\n",
        "videos_DF = videos_DF.dropna()\n",
        "\n",
        "print(f\"Number of rows after null values were removed: {videos_DF.count()}\")"
      ]
    },
    {
      "cell_type": "code",
      "execution_count": null,
      "metadata": {
        "colab": {
          "base_uri": "https://localhost:8080/"
        },
        "id": "Weedn6w-XmxI",
        "outputId": "7b2a0c07-69fb-4ca2-96bb-36ca1027a07d"
      },
      "outputs": [
        {
          "name": "stdout",
          "output_type": "stream",
          "text": [
            "root\n",
            " |-- marketplace: string (nullable = true)\n",
            " |-- customer_id: integer (nullable = true)\n",
            " |-- review_id: string (nullable = true)\n",
            " |-- product_id: string (nullable = true)\n",
            " |-- product_parent: integer (nullable = true)\n",
            " |-- product_title: string (nullable = true)\n",
            " |-- product_category: string (nullable = true)\n",
            " |-- star_rating: integer (nullable = true)\n",
            " |-- helpful_votes: integer (nullable = true)\n",
            " |-- total_votes: integer (nullable = true)\n",
            " |-- vine: string (nullable = true)\n",
            " |-- verified_purchase: string (nullable = true)\n",
            " |-- review_headline: string (nullable = true)\n",
            " |-- review_body: string (nullable = true)\n",
            " |-- review_date: timestamp (nullable = true)\n",
            "\n"
          ]
        }
      ],
      "source": [
        "# change the datatypes\n",
        "from pyspark.sql.types import TimestampType, IntegerType\n",
        "\n",
        "videos_DF = videos_DF.withColumn(\"customer_id\", videos_DF[\"customer_id\"].cast(IntegerType()))\\\n",
        ".withColumn(\"product_parent\", videos_DF[\"product_parent\"].cast(IntegerType()))\\\n",
        ".withColumn(\"review_date\", videos_DF[\"review_date\"].cast(TimestampType()))\\\n",
        ".withColumn(\"star_rating\", videos_DF[\"star_rating\"].cast(IntegerType()))\\\n",
        ".withColumn(\"helpful_votes\", videos_DF[\"helpful_votes\"].cast(IntegerType()))\\\n",
        ".withColumn(\"total_votes\", videos_DF[\"total_votes\"].cast(IntegerType()))\\\n",
        "\n",
        "# Print schema\n",
        "videos_DF.printSchema()"
      ]
    },
    {
      "cell_type": "code",
      "execution_count": null,
      "metadata": {
        "colab": {
          "base_uri": "https://localhost:8080/"
        },
        "id": "rbBsPPaYXybi",
        "outputId": "a3682099-f182-4416-ac48-3928a955ed86"
      },
      "outputs": [
        {
          "name": "stdout",
          "output_type": "stream",
          "text": [
            "+--------------+-----------+----------+--------------+-------------------+\n",
            "|     review_id|customer_id|product_id|product_parent|        review_date|\n",
            "+--------------+-----------+----------+--------------+-------------------+\n",
            "|R1P1G5KZ05H6RD|   49033728|6302503213|     748506413|2015-08-31 00:00:00|\n",
            "|R106N066IUN8ZV|   17857748|B000059PET|     478710180|2015-08-31 00:00:00|\n",
            "| R7WTAA1S5O7D9|   25551507|0788812807|     981002815|2015-08-31 00:00:00|\n",
            "|R32HFMVWLYOYJK|   21025041|6302509939|     333219811|2015-08-31 00:00:00|\n",
            "| RWT3H6HBVAL6G|   40943563|B00JENS2BI|     538101194|2015-08-31 00:00:00|\n",
            "|R1S3T3GWUGQTW7|   17013969|6305761302|     716303278|2015-08-31 00:00:00|\n",
            "|R3R0QYHA800REE|   47611685|6300157555|     134996462|2015-08-31 00:00:00|\n",
            "|R1FR0EQPHPW5NM|   35680737|6300189570|     498116870|2015-08-31 00:00:00|\n",
            "| RGORN81H45NI7|   10747909|B000SXQ5US|      77519275|2015-08-31 00:00:00|\n",
            "|R1CNYN4ABNOJSU|     126341|B00008F22G|     917778300|2015-08-31 00:00:00|\n",
            "|R2DW06821PMN40|   40676812|6303453961|     187850980|2015-08-31 00:00:00|\n",
            "|R1CS8AMA8B0VBJ|   19863533|6302453178|     901056605|2015-08-31 00:00:00|\n",
            "|R343CPRI4MC9J0|   13308975|6304475330|     472277071|2015-08-31 00:00:00|\n",
            "| R3XP0G8P2BOTP|    1989554|B000XPQ18W|     627738468|2015-08-31 00:00:00|\n",
            "|R3NK7014K996PF|   14885930|0800113055|     585148093|2015-08-31 00:00:00|\n",
            "| ROIQI6ZW6UVL9|   24203443|6300133338|     966466095|2015-08-31 00:00:00|\n",
            "| RECPIN4UZI76Z|   14885930|6304119054|     399731786|2015-08-31 00:00:00|\n",
            "|R3FE5KO613PMVI|   41133700|B000006CPD|     509239068|2015-08-31 00:00:00|\n",
            "|R2EC74PS45RAOR|   46580399|189218608X|     773411366|2015-08-31 00:00:00|\n",
            "|R3FZ5C78PP7ZD7|   19863533|6302754348|     536886134|2015-08-31 00:00:00|\n",
            "+--------------+-----------+----------+--------------+-------------------+\n",
            "only showing top 20 rows\n",
            "\n"
          ]
        }
      ],
      "source": [
        "# create review dataframe to match review_id_table table\n",
        "review_id_DF = videos_DF.select([\"review_id\",\"customer_id\",\"product_id\", \"product_parent\",\"review_date\"])\n",
        "review_id_DF.show()"
      ]
    },
    {
      "cell_type": "code",
      "execution_count": null,
      "metadata": {
        "colab": {
          "base_uri": "https://localhost:8080/"
        },
        "id": "EyMAIFmUX92y",
        "outputId": "80cf1f09-109b-48ea-96e8-27ab3f95ece0"
      },
      "outputs": [
        {
          "name": "stdout",
          "output_type": "stream",
          "text": [
            "root\n",
            " |-- review_id: string (nullable = true)\n",
            " |-- customer_id: integer (nullable = true)\n",
            " |-- product_id: string (nullable = true)\n",
            " |-- product_parent: integer (nullable = true)\n",
            " |-- review_date: timestamp (nullable = true)\n",
            "\n"
          ]
        }
      ],
      "source": [
        "# Print schema\n",
        "review_id_DF.printSchema()"
      ]
    },
    {
      "cell_type": "code",
      "execution_count": null,
      "metadata": {
        "colab": {
          "base_uri": "https://localhost:8080/"
        },
        "id": "SrYmbxO7YATE",
        "outputId": "15fe19f6-c3bc-4051-9777-ad2bee473309"
      },
      "outputs": [
        {
          "name": "stdout",
          "output_type": "stream",
          "text": [
            "+----------+--------------------+\n",
            "|product_id|       product_title|\n",
            "+----------+--------------------+\n",
            "|0788806270|Bambi (Walt Disne...|\n",
            "|078881107X|Kiki's Delivery S...|\n",
            "|6303559018|To Catch a Yeti [...|\n",
            "|6302844061|      Silkwood [VHS]|\n",
            "|B00003XAMY|Wagons Roll at Ni...|\n",
            "|0783216084|          Jaws [VHS]|\n",
            "|6301966376|The Compleat Beat...|\n",
            "|6303315429| Yoga for Life [VHS]|\n",
            "|6302969204|Miracle in Milan ...|\n",
            "|6301540441|As Summers Die [VHS]|\n",
            "|6304611366|Loretta Young Sho...|\n",
            "|1559838450|Hans Christian An...|\n",
            "|6304263198|   Latcho Drom [VHS]|\n",
            "|6301017250|Dead Don't Die [VHS]|\n",
            "|6301782135|John Hammond: Fro...|\n",
            "|6304925158|The Education of ...|\n",
            "|6305403309| Dead Husbands [VHS]|\n",
            "|6300152936|       Faeries [VHS]|\n",
            "|B0000897E9|  Femme Fatale [VHS]|\n",
            "|B0002X4MIQ|Touched By An Ang...|\n",
            "+----------+--------------------+\n",
            "only showing top 20 rows\n",
            "\n"
          ]
        }
      ],
      "source": [
        "# create products dataframe to match products table(only unique values)\n",
        "products_DF = digital_game_DF.select([\"product_id\",\"product_title\"])\n",
        "products_DF = products_DF.dropDuplicates()\n",
        "products_DF.show()"
      ]
    },
    {
      "cell_type": "code",
      "execution_count": null,
      "metadata": {
        "colab": {
          "base_uri": "https://localhost:8080/"
        },
        "id": "ccEY4f-MYFb_",
        "outputId": "ae14c854-6e33-414e-eb14-15edba0aa5b3"
      },
      "outputs": [
        {
          "name": "stdout",
          "output_type": "stream",
          "text": [
            "+-----------+--------------+\n",
            "|customer_id|customer_count|\n",
            "+-----------+--------------+\n",
            "|   50913245|          1005|\n",
            "|   38002140|           953|\n",
            "|   18116317|           898|\n",
            "|   49778371|           765|\n",
            "|   50763106|           648|\n",
            "|   50205849|           580|\n",
            "|   49355567|           567|\n",
            "|   26803373|           559|\n",
            "|   50736950|           534|\n",
            "|    7080939|           506|\n",
            "|   49837360|           422|\n",
            "|   39371720|           394|\n",
            "|   50303974|           391|\n",
            "|   50237277|           387|\n",
            "|   51299750|           382|\n",
            "|   53016962|           380|\n",
            "|   51010646|           334|\n",
            "|   49786731|           328|\n",
            "|   49818928|           315|\n",
            "|   43921586|           310|\n",
            "+-----------+--------------+\n",
            "only showing top 20 rows\n",
            "\n"
          ]
        }
      ],
      "source": [
        "# create customers dataframe to match customers table\n",
        "from pyspark.sql.functions import desc\n",
        "\n",
        "customers_DF = videos_DF.groupby(\"customer_id\").agg({\"customer_id\":\"count\"})\n",
        "customers_DF = customers_DF.orderBy(desc(\"count(customer_id)\"))\n",
        "customers_DF = customers_DF.withColumnRenamed(\"count(customer_id)\", \"customer_count\") \n",
        "customers_DF.show()"
      ]
    },
    {
      "cell_type": "code",
      "execution_count": null,
      "metadata": {
        "colab": {
          "base_uri": "https://localhost:8080/"
        },
        "id": "Fj5JQR1OYK3c",
        "outputId": "b8988252-853e-41dc-f0c6-b316ba403dc5"
      },
      "outputs": [
        {
          "name": "stdout",
          "output_type": "stream",
          "text": [
            "+--------------+-----------+-------------+-----------+----+\n",
            "|     review_id|star_rating|helpful_votes|total_votes|vine|\n",
            "+--------------+-----------+-------------+-----------+----+\n",
            "|R1P1G5KZ05H6RD|          5|            0|          0|   N|\n",
            "|R106N066IUN8ZV|          5|            0|          0|   N|\n",
            "| R7WTAA1S5O7D9|          4|            0|          0|   N|\n",
            "|R32HFMVWLYOYJK|          5|            0|          0|   N|\n",
            "| RWT3H6HBVAL6G|          3|            0|          0|   N|\n",
            "|R1S3T3GWUGQTW7|          5|            0|          0|   N|\n",
            "|R3R0QYHA800REE|          4|            0|          0|   N|\n",
            "|R1FR0EQPHPW5NM|          4|            1|          2|   N|\n",
            "| RGORN81H45NI7|          5|            1|          1|   N|\n",
            "|R1CNYN4ABNOJSU|          5|            0|          0|   N|\n",
            "|R2DW06821PMN40|          3|            0|          0|   N|\n",
            "|R1CS8AMA8B0VBJ|          5|            0|          0|   N|\n",
            "|R343CPRI4MC9J0|          5|            0|          0|   N|\n",
            "| R3XP0G8P2BOTP|          5|            1|          2|   N|\n",
            "|R3NK7014K996PF|          2|            0|          4|   N|\n",
            "| ROIQI6ZW6UVL9|          5|            0|          0|   N|\n",
            "| RECPIN4UZI76Z|          2|            0|          2|   N|\n",
            "|R3FE5KO613PMVI|          1|            0|          0|   N|\n",
            "|R2EC74PS45RAOR|          5|            0|          0|   N|\n",
            "|R3FZ5C78PP7ZD7|          5|            1|          1|   N|\n",
            "+--------------+-----------+-------------+-----------+----+\n",
            "only showing top 20 rows\n",
            "\n"
          ]
        }
      ],
      "source": [
        "# create vine dataframe to match vine_table \n",
        "\n",
        "# load in a sql function to use columns\n",
        "from pyspark.sql.functions import col\n",
        "\n",
        "vine_table_DF = videos_DF.select([\"review_id\",\"star_rating\",\"helpful_votes\", \"total_votes\",\"vine\"])\n",
        "\n",
        "# filter for columns from Amazon's Vine program\n",
        "vine_table_DF.show() "
      ]
    },
    {
      "cell_type": "code",
      "execution_count": null,
      "metadata": {
        "id": "nQK0x7KGYj_Y"
      },
      "outputs": [],
      "source": [
        "# configure RDS instance\n",
        "mode=\"append\"\n",
        "jdbc_url = \"jdbc:postgresql://video-games-db.<removed>.us-east-1.rds.amazonaws.com:5432/video_game_DB\"\n",
        "config = {\"user\":\"postgres\",\n",
        "          \"password\":\"<removed>\",\n",
        "          \"driver\":\"org.postgresql.Driver\"}"
      ]
    },
    {
      "cell_type": "code",
      "execution_count": null,
      "metadata": {
        "id": "ajRYaJ-va34V"
      },
      "outputs": [],
      "source": [
        "# write DataFrame to review_id_table in RDS\n",
        "\n",
        "review_id_DF.write.jdbc(url=jdbc_url, table='review_id_table', mode=mode, properties=config)"
      ]
    },
    {
      "cell_type": "code",
      "execution_count": null,
      "metadata": {
        "id": "4tS5nkJTbf-C"
      },
      "outputs": [],
      "source": [
        "# write DataFrame to products_DF in RDS\n",
        "\n",
        "# had to change the mode to \"overwrite\" because \n",
        "products_DF.write.jdbc(url=jdbc_url, table='products', mode= \"ignore\", properties=config)"
      ]
    },
    {
      "cell_type": "code",
      "execution_count": null,
      "metadata": {
        "id": "zt_0UHNJsYvO"
      },
      "outputs": [],
      "source": [
        "# write DataFrame to customers_DF in RDS\n",
        "customers_DF.write.jdbc(url=jdbc_url, table='customers', mode=\"ignore\", properties=config)"
      ]
    },
    {
      "cell_type": "code",
      "execution_count": null,
      "metadata": {
        "id": "OrV9KPPMsqA_"
      },
      "outputs": [],
      "source": [
        "# write DataFrame to vine_table_DF in RDS\n",
        "vine_table_DF.write.jdbc(url=jdbc_url, table='vine_table', mode=\"ignore\", properties=config)"
      ]
    }
  ],
  "metadata": {
    "colab": {
      "provenance": []
    },
    "kernelspec": {
      "display_name": "Python 3 (ipykernel)",
      "language": "python",
      "name": "python3"
    },
    "language_info": {
      "codemirror_mode": {
        "name": "ipython",
        "version": 3
      },
      "file_extension": ".py",
      "mimetype": "text/x-python",
      "name": "python",
      "nbconvert_exporter": "python",
      "pygments_lexer": "ipython3",
      "version": "3.9.12"
    }
  },
  "nbformat": 4,
  "nbformat_minor": 0
}
